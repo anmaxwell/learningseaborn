{
 "cells": [
  {
   "cell_type": "markdown",
   "metadata": {},
   "source": [
    "# Notebook to look into the Forbes list of billionaires to see what it tells us"
   ]
  },
  {
   "cell_type": "code",
   "execution_count": null,
   "metadata": {},
   "outputs": [],
   "source": [
    "import numpy as np\n",
    "import pandas as pd\n",
    "pd.plotting.register_matplotlib_converters()\n",
    "import matplotlib.pyplot as plt\n",
    "%matplotlib inline\n",
    "import seaborn as sns\n",
    "print('Setup Complete')"
   ]
  },
  {
   "cell_type": "code",
   "execution_count": null,
   "metadata": {},
   "outputs": [],
   "source": [
    "# read in the data\n",
    "df = pd.read_csv('forbes_2022.csv', index_col=[0])"
   ]
  },
  {
   "cell_type": "code",
   "execution_count": null,
   "metadata": {
    "scrolled": true
   },
   "outputs": [],
   "source": [
    "# create new columns too show if these are individuals or if the source comes from multiple avenues and group ages\n",
    "df['multi_people'] = df['name'].str.contains('&') | df['name'].str.contains(' and ')\n",
    "df['multi_source'] = df['source'].str.contains(',')\n",
    "df['age_bins'] = pd.cut(df.age,bins = [10, 20, 30, 40, 50, 60, 70, 80, 90, 100])\n",
    "df.head()"
   ]
  },
  {
   "cell_type": "markdown",
   "metadata": {},
   "source": [
    "# Which industry has the most billionaires"
   ]
  },
  {
   "cell_type": "code",
   "execution_count": null,
   "metadata": {},
   "outputs": [],
   "source": [
    "plt.figure(figsize=(24,8))\n",
    "sns.countplot(x ='industry', data = df, order = df['industry'].value_counts().index)\n",
    "plt.xticks(rotation=45)"
   ]
  },
  {
   "cell_type": "code",
   "execution_count": null,
   "metadata": {},
   "outputs": [],
   "source": [
    "max_ind = df['industry'].value_counts().idxmax()\n",
    "max_num = df['industry'].value_counts().max()\n",
    "print(f'The industry with the most billionaires is {max_ind}with {max_num} billionaires in this area.')"
   ]
  },
  {
   "cell_type": "markdown",
   "metadata": {},
   "source": [
    "# What is the age split of billionaires"
   ]
  },
  {
   "cell_type": "code",
   "execution_count": null,
   "metadata": {},
   "outputs": [],
   "source": [
    "plt.figure(figsize=(24,8))\n",
    "sns.countplot(x ='age_bins', data = df)"
   ]
  },
  {
   "cell_type": "code",
   "execution_count": null,
   "metadata": {},
   "outputs": [],
   "source": [
    "max_age = df['age'].max()\n",
    "min_age = df['age'].min()\n",
    "age_range = df['age_bins'].value_counts().idxmax()\n",
    "print(f'The youngest billionare is {min_age} years old and the oldest is {max_age} years old.')      \n",
    "print(f'Most billionaires are in the range {age_range.left} to {age_range.right} years old.')"
   ]
  },
  {
   "cell_type": "markdown",
   "metadata": {},
   "source": [
    "# Where are the billioniares"
   ]
  },
  {
   "cell_type": "code",
   "execution_count": null,
   "metadata": {},
   "outputs": [],
   "source": [
    "# create new columns to count where the billionaires are\n",
    "country_count = df['country'].value_counts().rename_axis('country').reset_index(name='counts')\n",
    "country_count['area'] = np.where(country_count['counts']<20, 'Rest of world', country_count['country'])\n",
    "country_count['counts'] = np.where(country_count['area']=='Rest of world',\n",
    "                country_count.area.map(lambda desc: 'Rest of world' in desc).sum(), country_count['counts'])\n",
    "df = df.merge(country_count).sort_values(by=['counts'], ascending=False)"
   ]
  },
  {
   "cell_type": "code",
   "execution_count": null,
   "metadata": {},
   "outputs": [],
   "source": [
    "plt.figure(figsize=(24,8))\n",
    "sns.barplot(x=df['area'], y=df['counts'])\n",
    "plt.xticks(rotation=45)"
   ]
  },
  {
   "cell_type": "code",
   "execution_count": null,
   "metadata": {},
   "outputs": [],
   "source": [
    "co_max = df['country'].value_counts(normalize=True).idxmax()\n",
    "co_max_perc = ((df['country'].value_counts(normalize=True).max())*100).round(1)\n",
    "print(f'{co_max_perc}% of billionaires are from {co_max}.')"
   ]
  },
  {
   "cell_type": "markdown",
   "metadata": {},
   "source": [
    "# Are most billionaires individuals"
   ]
  },
  {
   "cell_type": "code",
   "execution_count": null,
   "metadata": {},
   "outputs": [],
   "source": [
    "plt.figure(figsize=(14,7))\n",
    "sns.countplot(x='multi_people', data=df)"
   ]
  },
  {
   "cell_type": "code",
   "execution_count": null,
   "metadata": {},
   "outputs": [],
   "source": [
    "indiv = df['multi_people'].value_counts().idxmin()\n",
    "print(f'It is {indiv} that most billionaires are individuals.')"
   ]
  },
  {
   "cell_type": "markdown",
   "metadata": {},
   "source": [
    "# Do most billionaires have a single source"
   ]
  },
  {
   "cell_type": "code",
   "execution_count": null,
   "metadata": {},
   "outputs": [],
   "source": [
    "plt.figure(figsize=(14, 7))\n",
    "sns.countplot(x='multi_source', data=df)"
   ]
  },
  {
   "cell_type": "code",
   "execution_count": null,
   "metadata": {},
   "outputs": [],
   "source": [
    "single = df['multi_source'].value_counts().idxmin()\n",
    "print('it is {single} that most billionares have a single source.')"
   ]
  }
 ],
 "metadata": {
  "kernelspec": {
   "display_name": "Python 3",
   "language": "python",
   "name": "python3"
  },
  "language_info": {
   "codemirror_mode": {
    "name": "ipython",
    "version": 3
   },
   "file_extension": ".py",
   "mimetype": "text/x-python",
   "name": "python",
   "nbconvert_exporter": "python",
   "pygments_lexer": "ipython3",
   "version": "3.7.4"
  }
 },
 "nbformat": 4,
 "nbformat_minor": 2
}
