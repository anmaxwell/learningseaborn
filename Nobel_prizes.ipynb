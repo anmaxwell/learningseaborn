{
 "cells": [
  {
   "cell_type": "markdown",
   "id": "11dc2e0a",
   "metadata": {},
   "source": [
    "# Notebook to look at Nobel prize winners"
   ]
  },
  {
   "cell_type": "code",
   "execution_count": null,
   "id": "c0fa9646",
   "metadata": {},
   "outputs": [],
   "source": [
    "#standard imports\n",
    "import numpy as np\n",
    "import pandas as pd\n",
    "pd.plotting.register_matplotlib_converters()\n",
    "import matplotlib.pyplot as plt\n",
    "%matplotlib inline\n",
    "import seaborn as sns\n",
    "print('Setup Complete')"
   ]
  },
  {
   "cell_type": "code",
   "execution_count": null,
   "id": "e3a51180",
   "metadata": {},
   "outputs": [],
   "source": [
    "#read in data and print first rows\n",
    "df = pd.read_csv('nobel_final.csv')\n",
    "df.head()"
   ]
  },
  {
   "cell_type": "code",
   "execution_count": null,
   "id": "dee6b15d",
   "metadata": {},
   "outputs": [],
   "source": [
    "df['age_range'] = pd.cut(df['age_get_prize'], bins=8)\n",
    "df['year_range'] = pd.cut(df['year'], bins=8, precision=0)"
   ]
  },
  {
   "cell_type": "code",
   "execution_count": null,
   "id": "aff81e7f",
   "metadata": {},
   "outputs": [],
   "source": [
    "#Where are the majority of winners born\n",
    "plt.figure(figsize=(28,6))\n",
    "sns.countplot(x ='born_country_code', data = df, order = df['born_country_code'].value_counts().iloc[:10].index)"
   ]
  },
  {
   "cell_type": "code",
   "execution_count": null,
   "id": "f97ae167",
   "metadata": {},
   "outputs": [],
   "source": [
    "#Where did the majority of winners go to university\n",
    "plt.figure(figsize=(28,6))\n",
    "sns.countplot(x ='country_of_university', data = df, order = df['country_of_university'].value_counts().iloc[:10].index)\n",
    "plt.xticks(rotation=45)"
   ]
  },
  {
   "cell_type": "code",
   "execution_count": null,
   "id": "2f2aebb0",
   "metadata": {},
   "outputs": [],
   "source": [
    "top_countries = df[(df.country_of_university.isin(['USA', 'United Kingdom','Germany', 'France'])) | \n",
    "                   (df.born_country_code.isin(['US', 'GB', 'DE', 'FR']))]"
   ]
  },
  {
   "cell_type": "code",
   "execution_count": null,
   "id": "e7a6fda6",
   "metadata": {},
   "outputs": [],
   "source": [
    "plt.figure(figsize=(28,16))\n",
    "sns.stripplot(x=top_countries['country_of_university'], y=top_countries['born_country_code'])\n",
    "plt.xticks(rotation=45)\n",
    "plt.title(\"Country of birth v Country of uni\")\n",
    "plt.xlabel(\"University\")\n",
    "plt.ylabel(\"Birth\")"
   ]
  },
  {
   "cell_type": "code",
   "execution_count": null,
   "id": "938f4085",
   "metadata": {},
   "outputs": [],
   "source": [
    "#what is the male to female ratio\n",
    "sns.countplot(data = df, x = 'gender')"
   ]
  },
  {
   "cell_type": "code",
   "execution_count": null,
   "id": "160a991e",
   "metadata": {},
   "outputs": [],
   "source": [
    "#what is the category split by gender\n",
    "plt.figure(figsize=(12,6))\n",
    "sns.countplot(data = df, x = 'category', hue = 'gender')"
   ]
  },
  {
   "cell_type": "code",
   "execution_count": null,
   "id": "85b8c68e",
   "metadata": {},
   "outputs": [],
   "source": [
    "#what is the age distribution for winners, split by gender\n",
    "#sns.histplot(df['age_get_prize'])\n",
    "sns.histplot(data=df, x='age_get_prize', hue='gender')"
   ]
  },
  {
   "cell_type": "code",
   "execution_count": null,
   "id": "48898756",
   "metadata": {},
   "outputs": [],
   "source": [
    "#how has the male to female ratio changed over the years\n",
    "plt.figure(figsize=(18,6))\n",
    "sns.countplot(data=df, x='year_range', hue='gender')"
   ]
  },
  {
   "cell_type": "code",
   "execution_count": null,
   "id": "defb2cfe",
   "metadata": {},
   "outputs": [],
   "source": [
    "#how has the male to female count changed over the years\n",
    "plt.figure(figsize=(18,6))\n",
    "sns.countplot(data=df, x='gender', hue='year_range')"
   ]
  },
  {
   "cell_type": "code",
   "execution_count": null,
   "id": "57ca7439",
   "metadata": {},
   "outputs": [],
   "source": [
    "#how has the category changed over the years\n",
    "plt.figure(figsize=(18,6))\n",
    "sns.countplot(data=df, x='category', hue='year_range')"
   ]
  },
  {
   "cell_type": "code",
   "execution_count": null,
   "id": "7a77ff3f",
   "metadata": {},
   "outputs": [],
   "source": [
    "#how does the average age change over the years and is this different per gender\n",
    "age_gender_year = df[['year_range', 'age_get_prize', 'gender']]\n",
    "#age_year_group = age_gender_year.groupby(['year_range']).mean().reset_index()\n",
    "#age_year_group = age_gender_year.groupby(['year_range']).mean().plot()\n",
    "age_year_group = age_gender_year.groupby(['year_range', 'gender']).mean().reset_index()\n",
    "plt.figure(figsize=(18,6))\n",
    "sns.pointplot(x=\"year_range\", y=\"age_get_prize\", data=age_year_group, hue='gender')"
   ]
  },
  {
   "cell_type": "code",
   "execution_count": null,
   "id": "f769e5da",
   "metadata": {},
   "outputs": [],
   "source": [
    "#what is the gender split across the country born (top 4 countries by count)\n",
    "plt.figure(figsize=(28,6))\n",
    "sns.countplot(x ='born_country_code', data = df, order = df['born_country_code'].value_counts().iloc[:4].index, \n",
    "              hue = 'gender')"
   ]
  },
  {
   "cell_type": "code",
   "execution_count": null,
   "id": "ac38714c",
   "metadata": {},
   "outputs": [],
   "source": [
    "#what is the gender split across the country of uni (top 4 countries by count)\n",
    "plt.figure(figsize=(28,6))\n",
    "sns.countplot(x ='country_of_university', data = df, \n",
    "              order = df['country_of_university'].value_counts().iloc[:4].index, hue = 'gender')"
   ]
  },
  {
   "cell_type": "code",
   "execution_count": null,
   "id": "e441078a",
   "metadata": {},
   "outputs": [],
   "source": [
    "#what is the spread of age of award for each category\n",
    "plt.figure(figsize=(18,6))\n",
    "sns.swarmplot(x=df['category'], y=df['age'])"
   ]
  },
  {
   "cell_type": "code",
   "execution_count": null,
   "id": "cf7b9489",
   "metadata": {},
   "outputs": [],
   "source": [
    "#what is the spread of category for each age of award\n",
    "plt.figure(figsize=(16,6))\n",
    "sns.stripplot(x=df['age_range'], y=df['category'])"
   ]
  },
  {
   "cell_type": "code",
   "execution_count": null,
   "id": "159cd285",
   "metadata": {},
   "outputs": [],
   "source": [
    "#age of award and country born (using top countries)\n",
    "plt.figure(figsize=(16,16))\n",
    "sns.stripplot(x=top_countries['age_range'], y=top_countries['born_country_code'])"
   ]
  },
  {
   "cell_type": "code",
   "execution_count": null,
   "id": "6af4100f",
   "metadata": {},
   "outputs": [],
   "source": [
    "#country born and category\n",
    "plt.figure(figsize=(16,16))\n",
    "sns.stripplot(x=top_countries['category'], y=top_countries['born_country_code'])"
   ]
  },
  {
   "cell_type": "code",
   "execution_count": null,
   "id": "d40d477a",
   "metadata": {},
   "outputs": [],
   "source": [
    "#how has gender, category, age changed over time\n"
   ]
  },
  {
   "cell_type": "code",
   "execution_count": null,
   "id": "light-dealer",
   "metadata": {},
   "outputs": [],
   "source": []
  },
  {
   "cell_type": "code",
   "execution_count": null,
   "id": "mature-examination",
   "metadata": {},
   "outputs": [],
   "source": [
    "test_count = df[:20]\n",
    "test1 = test_count[['year', 'age']]\n",
    "test2 = test_count[['year', 'category']]\n",
    "test3 = test_count[['year', 'gender']]"
   ]
  },
  {
   "cell_type": "code",
   "execution_count": null,
   "id": "entire-million",
   "metadata": {},
   "outputs": [],
   "source": [
    "test1"
   ]
  },
  {
   "cell_type": "code",
   "execution_count": null,
   "id": "7f71bd0a",
   "metadata": {},
   "outputs": [],
   "source": [
    "#what can we predict?"
   ]
  },
  {
   "cell_type": "code",
   "execution_count": null,
   "id": "extreme-holly",
   "metadata": {},
   "outputs": [],
   "source": [
    "\n"
   ]
  }
 ],
 "metadata": {
  "kernelspec": {
   "display_name": "Python 3",
   "language": "python",
   "name": "python3"
  },
  "language_info": {
   "codemirror_mode": {
    "name": "ipython",
    "version": 3
   },
   "file_extension": ".py",
   "mimetype": "text/x-python",
   "name": "python",
   "nbconvert_exporter": "python",
   "pygments_lexer": "ipython3",
   "version": "3.9.1"
  }
 },
 "nbformat": 4,
 "nbformat_minor": 5
}
