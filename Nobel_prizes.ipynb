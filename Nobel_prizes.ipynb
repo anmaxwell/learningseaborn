{
 "cells": [
  {
   "cell_type": "markdown",
   "id": "ec882e4e",
   "metadata": {},
   "source": [
    "# Notebook to look at Nobel prize winners"
   ]
  },
  {
   "cell_type": "code",
   "execution_count": null,
   "id": "43b328d5",
   "metadata": {},
   "outputs": [],
   "source": [
    "#standard imports\n",
    "import numpy as np\n",
    "import pandas as pd\n",
    "pd.plotting.register_matplotlib_converters()\n",
    "import matplotlib.pyplot as plt\n",
    "%matplotlib inline\n",
    "import seaborn as sns\n",
    "print('Setup Complete')\n",
    "import pandas_profiling\n",
    "from pandas_profiling import ProfileReport"
   ]
  },
  {
   "cell_type": "code",
   "execution_count": null,
   "id": "66c6e26d",
   "metadata": {},
   "outputs": [],
   "source": [
    "#read in data and print first rows\n",
    "df = pd.read_csv('nobel_final.csv')\n",
    "df.head()"
   ]
  },
  {
   "cell_type": "code",
   "execution_count": null,
   "id": "1e7dff7e",
   "metadata": {},
   "outputs": [],
   "source": [
    "df['age_range'] = pd.cut(df['age_get_prize'], bins=8)\n",
    "df['year_range'] = pd.cut(df['year'], bins=8, precision=0)"
   ]
  },
  {
   "cell_type": "code",
   "execution_count": null,
   "id": "14e515d3",
   "metadata": {},
   "outputs": [],
   "source": [
    "#Where are the majority of winners born\n",
    "plt.figure(figsize=(28,6))\n",
    "sns.countplot(x ='born_country_code', data = df, order = df['born_country_code'].value_counts().iloc[:10].index)"
   ]
  },
  {
   "cell_type": "code",
   "execution_count": null,
   "id": "c589cb10",
   "metadata": {},
   "outputs": [],
   "source": [
    "#Where did the majority of winners go to university\n",
    "plt.figure(figsize=(28,6))\n",
    "sns.countplot(x ='country_of_university', data = df, order = df['country_of_university'].value_counts().iloc[:10].index)\n",
    "plt.xticks(rotation=45)"
   ]
  },
  {
   "cell_type": "code",
   "execution_count": null,
   "id": "ec9ce67c",
   "metadata": {},
   "outputs": [],
   "source": [
    "top_countries = df[(df.country_of_university.isin(['USA', 'United Kingdom','Germany', 'France'])) | \n",
    "                   (df.born_country_code.isin(['US', 'GB', 'DE', 'FR']))]"
   ]
  },
  {
   "cell_type": "code",
   "execution_count": null,
   "id": "70263f3d",
   "metadata": {},
   "outputs": [],
   "source": [
    "plt.figure(figsize=(28,16))\n",
    "sns.stripplot(x=top_countries['country_of_university'], y=top_countries['born_country_code'])\n",
    "plt.xticks(rotation=45)\n",
    "plt.title(\"Country of birth v Country of uni\")\n",
    "plt.xlabel(\"University\")\n",
    "plt.ylabel(\"Birth\")"
   ]
  },
  {
   "cell_type": "code",
   "execution_count": null,
   "id": "f26eceb7",
   "metadata": {},
   "outputs": [],
   "source": [
    "#what is the male to female ratio\n",
    "sns.countplot(data = df, x = 'gender')"
   ]
  },
  {
   "cell_type": "code",
   "execution_count": null,
   "id": "1ae392fe",
   "metadata": {},
   "outputs": [],
   "source": [
    "#what is the category split by gender\n",
    "plt.figure(figsize=(12,6))\n",
    "sns.countplot(data = df, x = 'category', hue = 'gender')"
   ]
  },
  {
   "cell_type": "code",
   "execution_count": null,
   "id": "ce883377",
   "metadata": {},
   "outputs": [],
   "source": [
    "#what is the age distribution for winners, split by gender\n",
    "#sns.histplot(df['age_get_prize'])\n",
    "sns.histplot(data=df, x='age_get_prize', hue='gender')"
   ]
  },
  {
   "cell_type": "code",
   "execution_count": null,
   "id": "fa5f2f01",
   "metadata": {},
   "outputs": [],
   "source": [
    "#how has the male to female ratio changed over the years\n",
    "plt.figure(figsize=(18,6))\n",
    "sns.countplot(data=df, x='year_range', hue='gender')"
   ]
  },
  {
   "cell_type": "code",
   "execution_count": null,
   "id": "070f36ad",
   "metadata": {},
   "outputs": [],
   "source": [
    "#how has the male to female count changed over the years\n",
    "plt.figure(figsize=(18,6))\n",
    "sns.countplot(data=df, x='gender', hue='year_range')"
   ]
  },
  {
   "cell_type": "code",
   "execution_count": null,
   "id": "469d1696",
   "metadata": {},
   "outputs": [],
   "source": [
    "#how has the category changed over the years\n",
    "plt.figure(figsize=(18,6))\n",
    "sns.countplot(data=df, x='category', hue='year_range')"
   ]
  },
  {
   "cell_type": "code",
   "execution_count": null,
   "id": "024d5472",
   "metadata": {},
   "outputs": [],
   "source": [
    "#how does the average age change over the years and is this different per gender\n",
    "age_gender_year = df[['year_range', 'age_get_prize', 'gender']]\n",
    "#age_year_group = age_gender_year.groupby(['year_range']).mean().reset_index()\n",
    "#age_year_group = age_gender_year.groupby(['year_range']).mean().plot()\n",
    "age_year_group = age_gender_year.groupby(['year_range', 'gender']).mean().reset_index()\n",
    "plt.figure(figsize=(18,6))\n",
    "sns.pointplot(x=\"year_range\", y=\"age_get_prize\", data=age_year_group, hue='gender')"
   ]
  },
  {
   "cell_type": "code",
   "execution_count": null,
   "id": "f8850211",
   "metadata": {},
   "outputs": [],
   "source": [
    "#what is the gender split across the country born (top 4 countries by count)\n",
    "plt.figure(figsize=(28,6))\n",
    "sns.countplot(x ='born_country_code', data = df, order = df['born_country_code'].value_counts().iloc[:4].index, \n",
    "              hue = 'gender')"
   ]
  },
  {
   "cell_type": "code",
   "execution_count": null,
   "id": "b9583d2c",
   "metadata": {},
   "outputs": [],
   "source": [
    "#what is the gender split across the country of uni (top 4 countries by count)\n",
    "plt.figure(figsize=(28,6))\n",
    "sns.countplot(x ='country_of_university', data = df, \n",
    "              order = df['country_of_university'].value_counts().iloc[:4].index, hue = 'gender')"
   ]
  },
  {
   "cell_type": "code",
   "execution_count": null,
   "id": "e5070cfa",
   "metadata": {},
   "outputs": [],
   "source": [
    "#what is the spread of age of award for each category\n",
    "plt.figure(figsize=(18,6))\n",
    "sns.swarmplot(x=df['category'], y=df['age'])"
   ]
  },
  {
   "cell_type": "code",
   "execution_count": null,
   "id": "0ba0a423",
   "metadata": {},
   "outputs": [],
   "source": [
    "#what is the spread of category for each age of award\n",
    "plt.figure(figsize=(16,6))\n",
    "sns.stripplot(x=df['age_range'], y=df['category'])"
   ]
  },
  {
   "cell_type": "code",
   "execution_count": null,
   "id": "7f2881b4",
   "metadata": {},
   "outputs": [],
   "source": [
    "#age of award and country born (using top countries)\n",
    "plt.figure(figsize=(16,16))\n",
    "sns.stripplot(x=top_countries['age_range'], y=top_countries['born_country_code'])"
   ]
  },
  {
   "cell_type": "code",
   "execution_count": null,
   "id": "fb38b910",
   "metadata": {},
   "outputs": [],
   "source": [
    "#country born and category\n",
    "plt.figure(figsize=(16,16))\n",
    "sns.stripplot(x=top_countries['category'], y=top_countries['born_country_code'])"
   ]
  },
  {
   "cell_type": "code",
   "execution_count": null,
   "id": "f5b7c537",
   "metadata": {},
   "outputs": [],
   "source": [
    "#introducing continents\n",
    "continent_list1 = pd.DataFrame({'born_country_code': ['DZ','EG','ET','GH','KE','LR','MA','MG','NG','ZA','ZW','AR','BR',\n",
    "                                            'CA','CL','CO','CR','GP','GT','LC','MX','PE','TT','US','VE','AZ','BD',\n",
    "                                            'CN','CY','ID','IL','IN','IQ','IR','JP','KR','MM','PK','RU','TR','TW',\n",
    "                                            'VN','YE','AT','BA','BE','BG','BY','CH','CZ','DE','DK','ES','FI','FR',\n",
    "                                            'GB','GR','HR','HU','IE','IS','IT','LT','LU','LV',\n",
    "                                            'MK','NL','NO','PL','PT','RO','SE','SI','SK','UA','AU','NZ','CD','TL'],\n",
    "                    'born_continent': ['Africa','Africa','Africa','Africa','Africa','Africa','Africa','Africa','Africa',\n",
    "                             'Africa','Africa','Americas','Americas','Americas','Americas','Americas','Americas',\n",
    "                             'Americas','Americas','Americas','Americas','Americas','Americas','Americas','Americas',\n",
    "                             'Asia','Asia','Asia','Asia','Asia','Asia','Asia','Asia','Asia','Asia','Asia','Asia',\n",
    "                             'Asia','Asia','Asia','Asia','Asia','Asia','Europe','Europe','Europe','Europe','Europe',\n",
    "                             'Europe','Europe','Europe','Europe','Europe','Europe','Europe','Europe','Europe','Europe'\n",
    "                             ,'Europe','Europe','Europe','Europe','Europe','Europe','Europe','Europe','Europe',\n",
    "                             'Europe','Europe','Europe','Europe','Europe','Europe','Europe','Europe','Oceania',\n",
    "                             'Oceania','Africa','Asia']})\n",
    "                             \n",
    "continent_list2 = pd.DataFrame({'country_of_university': ['Germany','Canada','theNetherlands','USSR(nowRussia)',\n",
    "                                                          'India','Finland','Portugal','Germany(nowFrance)',\n",
    "                                                          'Austria','France','Belgium','Japan',\n",
    "                                                          'Czechoslovakia(nowCzechRepublic)','USA','UnitedKingdom',\n",
    "                                                          'Argentina','Russia','Ireland','Spain','Sweden','Israel',\n",
    "                                                          'Italy','Switzerland','Tunisia','Australia','China',\n",
    "                                                          'Denmark','Hungary','Norway'],\n",
    "                    'uni_continent': ['Europe','Americas','Europe','Asia','Asia','Europe','Europe','Europe','Europe',\n",
    "                                      'Europe','Europe','Asia','Europe','Americas','Europe','Americas','Asia','Europe'\n",
    "                                      ,'Europe','Europe','Asia','Europe','Europe','Africa','Oceania','Asia','Europe',\n",
    "                                      'Europe','Europe']})\n",
    "\n",
    "df = df.merge(continent_list1)\n",
    "df = df.merge(continent_list2)"
   ]
  },
  {
   "cell_type": "code",
   "execution_count": null,
   "id": "28def627",
   "metadata": {},
   "outputs": [],
   "source": [
    "#age of award and continent\n",
    "plt.figure(figsize=(16,6))\n",
    "sns.stripplot(x=df['age_range'], y=df['born_continent'])"
   ]
  },
  {
   "cell_type": "code",
   "execution_count": null,
   "id": "a9a4e5a7",
   "metadata": {},
   "outputs": [],
   "source": [
    "#continent and category\n",
    "plt.figure(figsize=(16,6))\n",
    "sns.stripplot(x=df['category'], y=df['born_continent'])"
   ]
  },
  {
   "cell_type": "code",
   "execution_count": null,
   "id": "9cfd89f0",
   "metadata": {},
   "outputs": [],
   "source": [
    "plt.figure(figsize=(16,6))\n",
    "sns.stripplot(x=df['born_continent'], y=df['uni_continent'])"
   ]
  },
  {
   "cell_type": "code",
   "execution_count": null,
   "id": "29d3f5cf",
   "metadata": {},
   "outputs": [],
   "source": [
    "df.profile_report()"
   ]
  },
  {
   "cell_type": "code",
   "execution_count": null,
   "id": "25e8db78",
   "metadata": {},
   "outputs": [],
   "source": [
    "profile = ProfileReport(df, title='Pandas Profile Report')\n",
    "\n",
    "profile.to_file('profile_report.html')"
   ]
  },
  {
   "cell_type": "code",
   "execution_count": null,
   "id": "52219e3c",
   "metadata": {},
   "outputs": [],
   "source": [
    "#what can we predict?"
   ]
  },
  {
   "cell_type": "code",
   "execution_count": null,
   "id": "d9ed529c",
   "metadata": {},
   "outputs": [],
   "source": [
    "\n"
   ]
  }
 ],
 "metadata": {
  "kernelspec": {
   "display_name": "Python 3",
   "language": "python",
   "name": "python3"
  },
  "language_info": {
   "codemirror_mode": {
    "name": "ipython",
    "version": 3
   },
   "file_extension": ".py",
   "mimetype": "text/x-python",
   "name": "python",
   "nbconvert_exporter": "python",
   "pygments_lexer": "ipython3",
   "version": "3.7.4"
  }
 },
 "nbformat": 4,
 "nbformat_minor": 5
}
